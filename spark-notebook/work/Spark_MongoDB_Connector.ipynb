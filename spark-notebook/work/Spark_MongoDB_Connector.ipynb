{
 "cells": [
  {
   "cell_type": "code",
   "execution_count": 1,
   "id": "ec627579-ff2e-498e-acb8-dd5610d2b7f7",
   "metadata": {},
   "outputs": [],
   "source": [
    "import sys\n",
    "sys.path.append(\"./work/imcp\")\n",
    "\n",
    "from utils.configuration import get_settings\n",
    "from operators.streaming import SparkStreaming\n",
    "import pyspark.sql.functions as F"
   ]
  },
  {
   "cell_type": "markdown",
   "id": "30014c77-8563-4944-b51d-527f4391b5c2",
   "metadata": {},
   "source": [
    "# Create Spark Session by user defined class"
   ]
  },
  {
   "cell_type": "code",
   "execution_count": 2,
   "id": "d8c7edb0-7c4a-498f-8841-91224dd28fc7",
   "metadata": {},
   "outputs": [],
   "source": [
    "settings = get_settings()\n",
    "spark = SparkStreaming.get_instance(app_name=\"Spark Streaming\")"
   ]
  },
  {
   "cell_type": "code",
   "execution_count": 3,
   "id": "dfe4e862-7d25-4ea4-a2d3-318a913438ae",
   "metadata": {},
   "outputs": [
    {
     "data": {
      "text/html": [
       "\n",
       "            <div>\n",
       "                <p><b>SparkSession - hive</b></p>\n",
       "                \n",
       "        <div>\n",
       "            <p><b>SparkContext</b></p>\n",
       "\n",
       "            <p><a href=\"http://f96e811bbabb:4040\">Spark UI</a></p>\n",
       "\n",
       "            <dl>\n",
       "              <dt>Version</dt>\n",
       "                <dd><code>v3.3.2</code></dd>\n",
       "              <dt>Master</dt>\n",
       "                <dd><code>spark://spark-master:7077</code></dd>\n",
       "              <dt>AppName</dt>\n",
       "                <dd><code>Spark Streaming</code></dd>\n",
       "            </dl>\n",
       "        </div>\n",
       "        \n",
       "            </div>\n",
       "        "
      ],
      "text/plain": [
       "<pyspark.sql.session.SparkSession at 0x7f2685249430>"
      ]
     },
     "execution_count": 3,
     "metadata": {},
     "output_type": "execute_result"
    }
   ],
   "source": [
    "spark"
   ]
  },
  {
   "cell_type": "markdown",
   "id": "db7c52cb-c93c-4847-ac15-8bf29522bcbd",
   "metadata": {},
   "source": [
    "# Check the Spark MongoDB Connector"
   ]
  },
  {
   "cell_type": "markdown",
   "id": "eb29e8ea-c045-4fd8-b949-05f13ac7aa55",
   "metadata": {},
   "source": [
    "## Read batching data by Spark DataFrame"
   ]
  },
  {
   "cell_type": "code",
   "execution_count": 3,
   "id": "749d5f6d-c04a-423c-b1d0-aee774535312",
   "metadata": {},
   "outputs": [],
   "source": [
    "df = spark.read.format(\"mongodb\") \\\n",
    "            .option(\"spark.mongodb.read.connection.uri\", settings.MONGODB_ATLAS_URI) \\\n",
    "            .option(\"spark.mongodb.read.database\", \"imcp\") \\\n",
    "            .option(\"spark.mongodb.read.collection\", \"raw\") \\\n",
    "            .load()"
   ]
  },
  {
   "cell_type": "code",
   "execution_count": 4,
   "id": "b1ab6686-2c3c-4923-99d6-df180bccf778",
   "metadata": {},
   "outputs": [
    {
     "name": "stdout",
     "output_type": "stream",
     "text": [
      "root\n",
      " |-- caption: string (nullable = true)\n",
      " |-- created_time: timestamp (nullable = true)\n",
      " |-- howpublished: string (nullable = true)\n",
      " |-- publisher: string (nullable = true)\n",
      " |-- short_caption: string (nullable = true)\n",
      " |-- url: string (nullable = true)\n",
      " |-- caption_size: integer (nullable = false)\n",
      "\n",
      "None\n",
      "The number of filterd rows:  68721\n"
     ]
    }
   ],
   "source": [
    "df = df.withColumn(\"created_time\", F.to_timestamp(F.col(\"created_time\"), \"yyyy-MM-dd HH:mm:ss\")) \\\n",
    "        .withColumn(\"caption_size\", F.size(F.split(df[\"caption\"], \" \"))) \\\n",
    "        .drop(\"_id\")\n",
    "\n",
    "processed_df = df.filter(df[\"caption_size\"] < 50)\n",
    "\n",
    "print(processed_df.printSchema())\n",
    "print(\"The number of filterd rows: \", processed_df.count())"
   ]
  },
  {
   "cell_type": "markdown",
   "id": "6a26208a-aeac-4e72-acd9-ff85b79ac539",
   "metadata": {},
   "source": [
    "## Read batching data by Spark SQL"
   ]
  },
  {
   "cell_type": "code",
   "execution_count": null,
   "id": "b9767996-f49c-49a2-84de-b86b27984146",
   "metadata": {},
   "outputs": [],
   "source": [
    "df.createOrReplaceTempView(\"vw_raw\")"
   ]
  },
  {
   "cell_type": "code",
   "execution_count": null,
   "id": "50ddf5f6-0ab9-4093-9122-4ec7adb5018e",
   "metadata": {},
   "outputs": [
    {
     "name": "stdout",
     "output_type": "stream",
     "text": [
      "+---------+---------+-----------+\n",
      "|namespace|tableName|isTemporary|\n",
      "+---------+---------+-----------+\n",
      "|         |   vw_raw|      false|\n",
      "+---------+---------+-----------+\n",
      "\n"
     ]
    }
   ],
   "source": [
    "spark.sql(\"SHOW TABLES\").show()"
   ]
  },
  {
   "cell_type": "code",
   "execution_count": 15,
   "id": "57f9401c-1780-444b-8007-32cc73be8199",
   "metadata": {},
   "outputs": [
    {
     "data": {
      "text/plain": [
       "68721"
      ]
     },
     "execution_count": 15,
     "metadata": {},
     "output_type": "execute_result"
    }
   ],
   "source": [
    "processed = spark.sql(\"SELECT * FROM vw_raw WHERE caption_size<50\")\n",
    "processed.count()"
   ]
  },
  {
   "cell_type": "markdown",
   "id": "bce4633d-3a59-480e-9bcf-d28d52e97532",
   "metadata": {},
   "source": [
    "## Write batching data into MongoDB"
   ]
  },
  {
   "cell_type": "code",
   "execution_count": 7,
   "id": "83bd27a8-0bd8-44dd-86df-013d856478e1",
   "metadata": {},
   "outputs": [],
   "source": [
    "processed_df.write.format(\"mongodb\") \\\n",
    "            .option(\"spark.mongodb.write.connection.uri\", settings.MONGODB_ATLAS_URI) \\\n",
    "            .option(\"spark.mongodb.write.database\", \"imcp\") \\\n",
    "            .option(\"spark.mongodb.write.collection\", \"audit\") \\\n",
    "            .option(\"spark.mongodb.write.batch.size\", \"10000\") \\\n",
    "            .mode(\"append\") \\\n",
    "            .save()"
   ]
  },
  {
   "cell_type": "code",
   "execution_count": 12,
   "id": "efbfe60e-e60e-4b68-af8a-770635e87359",
   "metadata": {},
   "outputs": [],
   "source": [
    "spark.stop()"
   ]
  }
 ],
 "metadata": {
  "kernelspec": {
   "display_name": "Python 3 (ipykernel)",
   "language": "python",
   "name": "python3"
  },
  "language_info": {
   "codemirror_mode": {
    "name": "ipython",
    "version": 3
   },
   "file_extension": ".py",
   "mimetype": "text/x-python",
   "name": "python",
   "nbconvert_exporter": "python",
   "pygments_lexer": "ipython3",
   "version": "3.9.13"
  }
 },
 "nbformat": 4,
 "nbformat_minor": 5
}
