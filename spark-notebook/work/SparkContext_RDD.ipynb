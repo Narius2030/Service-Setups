{
 "cells": [
  {
   "cell_type": "markdown",
   "id": "2633983e-bbb3-4c58-bbc3-4382cc34902e",
   "metadata": {},
   "source": [
    "# Introduce SparkContext, SparkSession and RDD data type\n",
    "\n",
    "1. Create SparkContext in Spark version 2.X earlier\n",
    "2. Create SparkContext (SparkSession) in Spark version 2.X and later\n",
    "3. How to create RDD\n",
    "4. RDD Operation: Actions\n",
    "    - count\n",
    "    - take\n",
    "    - first\n",
    "5. RDD Operation: Transformations\n",
    "    - reduceByKey\n",
    "    - groupByKey\n",
    "    - groupBy\n",
    "    - combineByKey\n",
    "    - aggregateByKey\n",
    "    - map\n",
    "    - mapValues"
   ]
  },
  {
   "cell_type": "markdown",
   "id": "33383587-0adf-49c4-b896-5fb5cebd92e8",
   "metadata": {},
   "source": [
    "## Create SparkContext in Apache Spark 2.X earlier"
   ]
  },
  {
   "cell_type": "code",
   "execution_count": 2,
   "id": "23570aaf-8b7d-404c-a44a-bd4f5da2d3cb",
   "metadata": {},
   "outputs": [],
   "source": [
    "from pyspark import SparkContext"
   ]
  },
  {
   "cell_type": "code",
   "execution_count": 19,
   "id": "9b9f0d1b-e111-4839-bc41-d1c62450ae1d",
   "metadata": {},
   "outputs": [],
   "source": [
    "sc = SparkContext(appName=\"SparkContext Application\", master=\"spark://spark-master:7077\")"
   ]
  },
  {
   "cell_type": "code",
   "execution_count": 20,
   "id": "03977798-641f-424a-b545-f7fdc7f6dd0e",
   "metadata": {},
   "outputs": [
    {
     "data": {
      "text/html": [
       "\n",
       "        <div>\n",
       "            <p><b>SparkContext</b></p>\n",
       "\n",
       "            <p><a href=\"http://f96e811bbabb:4040\">Spark UI</a></p>\n",
       "\n",
       "            <dl>\n",
       "              <dt>Version</dt>\n",
       "                <dd><code>v3.3.2</code></dd>\n",
       "              <dt>Master</dt>\n",
       "                <dd><code>spark://spark-master:7077</code></dd>\n",
       "              <dt>AppName</dt>\n",
       "                <dd><code>SparkContext Application</code></dd>\n",
       "            </dl>\n",
       "        </div>\n",
       "        "
      ],
      "text/plain": [
       "<SparkContext master=spark://spark-master:7077 appName=SparkContext Application>"
      ]
     },
     "execution_count": 20,
     "metadata": {},
     "output_type": "execute_result"
    }
   ],
   "source": [
    "sc"
   ]
  },
  {
   "cell_type": "code",
   "execution_count": 21,
   "id": "0da19ab9-6dbd-4ebf-85ec-5030ea137f71",
   "metadata": {},
   "outputs": [],
   "source": [
    "sc.stop()"
   ]
  },
  {
   "cell_type": "markdown",
   "id": "b59d093f-0d66-4a15-baa0-79e106dd6a31",
   "metadata": {},
   "source": [
    "## Create SparkContext in Apache Spark 2.X and later"
   ]
  },
  {
   "cell_type": "code",
   "execution_count": 8,
   "id": "56aa694e-ad48-46a3-8ebe-5e2dc87e3aa8",
   "metadata": {},
   "outputs": [],
   "source": [
    "from pyspark.sql import SparkSession"
   ]
  },
  {
   "cell_type": "code",
   "execution_count": 32,
   "id": "dbb06ffd-f39f-4952-8138-8db2536fd29d",
   "metadata": {},
   "outputs": [],
   "source": [
    "spark = SparkSession.builder \\\n",
    "    .appName('Ingest checkin table into bronze') \\\n",
    "    .master('spark://spark-master:7077') \\\n",
    "    .config(\"spark.executor.memory\", \"2g\") \\\n",
    "    .config(\"spark.sql.shuffle.partitions\", \"4\") \\\n",
    "    .config(\"hive.metastore.uris\", \"thrift://hive-metastore:9083\") \\\n",
    "    .config('spark.hadoop.fs.s3a.aws.credentials.provider', 'org.apache.hadoop.fs.s3a.SimpleAWSCredentialsProvider') \\\n",
    "    .config('spark.sql.warehouse.dir', f's3a://lakehouse/') \\\n",
    "    .enableHiveSupport() \\\n",
    "    .getOrCreate()"
   ]
  },
  {
   "cell_type": "code",
   "execution_count": 33,
   "id": "ee0c3942-6029-4e86-9b51-0705e9fe8447",
   "metadata": {},
   "outputs": [
    {
     "data": {
      "text/html": [
       "\n",
       "            <div>\n",
       "                <p><b>SparkSession - hive</b></p>\n",
       "                \n",
       "        <div>\n",
       "            <p><b>SparkContext</b></p>\n",
       "\n",
       "            <p><a href=\"http://f96e811bbabb:4040\">Spark UI</a></p>\n",
       "\n",
       "            <dl>\n",
       "              <dt>Version</dt>\n",
       "                <dd><code>v3.3.2</code></dd>\n",
       "              <dt>Master</dt>\n",
       "                <dd><code>spark://spark-master:7077</code></dd>\n",
       "              <dt>AppName</dt>\n",
       "                <dd><code>Ingest checkin table into bronze</code></dd>\n",
       "            </dl>\n",
       "        </div>\n",
       "        \n",
       "            </div>\n",
       "        "
      ],
      "text/plain": [
       "<pyspark.sql.session.SparkSession at 0x7f98b2b0ea60>"
      ]
     },
     "execution_count": 33,
     "metadata": {},
     "output_type": "execute_result"
    }
   ],
   "source": [
    "spark"
   ]
  },
  {
   "cell_type": "code",
   "execution_count": 27,
   "id": "c36979b3-40e8-4c84-a66c-cf43d49d49a8",
   "metadata": {},
   "outputs": [
    {
     "name": "stdout",
     "output_type": "stream",
     "text": [
      "+---------+\n",
      "|namespace|\n",
      "+---------+\n",
      "|  default|\n",
      "|  test_db|\n",
      "+---------+\n",
      "\n"
     ]
    }
   ],
   "source": [
    "spark.sql(\"SHOW DATABASES\").show()"
   ]
  },
  {
   "cell_type": "markdown",
   "id": "370f8a1b-0e3f-49e7-aeeb-4aadc9d7f02d",
   "metadata": {},
   "source": [
    "## How to create RDDs"
   ]
  },
  {
   "cell_type": "code",
   "execution_count": 36,
   "id": "201338cc-f4cd-4d9c-b543-d8eb07aecc1f",
   "metadata": {},
   "outputs": [],
   "source": [
    "import random\n",
    "\n",
    "names = [\"Alice\", \"Bob\", \"Charlie\", \"David\", \"Emma\", \"Frank\", \"Grace\", \"Hannah\", \"Isaac\", \"Julia\"]\n",
    "data = [{\"Name\": random.choice(names), \"Age\": random.randint(20, 40)} for _ in range(100)]\n",
    "rdd = spark.sparkContext.parallelize(data)"
   ]
  },
  {
   "cell_type": "markdown",
   "id": "303de914-6d44-4e70-8970-2df6a594eac4",
   "metadata": {},
   "source": [
    "## RDD Operation: Actions"
   ]
  },
  {
   "cell_type": "code",
   "execution_count": 44,
   "id": "f3923550-27d8-4523-ab7d-478b713374ec",
   "metadata": {},
   "outputs": [
    {
     "name": "stdout",
     "output_type": "stream",
     "text": [
      "Several elements in RDD [{'Name': 'Grace', 'Age': 34}, {'Name': 'Bob', 'Age': 31}, {'Name': 'Julia', 'Age': 36}, {'Name': 'Frank', 'Age': 35}, {'Name': 'Alice', 'Age': 33}]\n"
     ]
    }
   ],
   "source": [
    "## TODO: show the specific number of elements in RDD by using take()\n",
    "print(\"Several elements in RDD\", rdd.take(5))"
   ]
  },
  {
   "cell_type": "code",
   "execution_count": 55,
   "id": "bebb2547-6f7e-4293-81c5-32ef3ab16672",
   "metadata": {},
   "outputs": [
    {
     "name": "stdout",
     "output_type": "stream",
     "text": [
      "First element in RDD {'Name': 'Grace', 'Age': 34}\n"
     ]
    }
   ],
   "source": [
    "## TODO: show the first elements in RDD by using first()\n",
    "print(\"First element in RDD\", rdd.first())"
   ]
  },
  {
   "cell_type": "code",
   "execution_count": 54,
   "id": "fff5b77b-238e-45be-9099-0e93c9c96239",
   "metadata": {},
   "outputs": [
    {
     "name": "stdout",
     "output_type": "stream",
     "text": [
      "The number of elements in RDD 100\n"
     ]
    }
   ],
   "source": [
    "## TODO: count the number of elements in RDD by using count()\n",
    "print(\"The number of elements in RDD\", rdd.count())"
   ]
  },
  {
   "cell_type": "markdown",
   "id": "baa1b3b2-6585-40cb-89f3-02e7f35081a9",
   "metadata": {},
   "source": [
    "## RDD Operation: Transformations"
   ]
  },
  {
   "cell_type": "code",
   "execution_count": 69,
   "id": "afdc4244-8b3c-45c3-bcd1-7a770fc79691",
   "metadata": {},
   "outputs": [
    {
     "name": "stdout",
     "output_type": "stream",
     "text": [
      "Mapped RDD [('GRACE', 34.0), ('BOB', 31.0), ('JULIA', 36.0), ('FRANK', 35.0), ('ALICE', 33.0)]\n"
     ]
    }
   ],
   "source": [
    "## TODO: mapping function to each element in RDD by using map()\n",
    "mapped_rdd = rdd.map(lambda x: (x['Name'].upper(), float(x['Age'])))\n",
    "print(\"Mapped RDD\", mapped_rdd.take(5))"
   ]
  },
  {
   "cell_type": "code",
   "execution_count": 79,
   "id": "40b83c32-fbe5-4c84-afa7-1c72a9830d53",
   "metadata": {},
   "outputs": [
    {
     "name": "stdout",
     "output_type": "stream",
     "text": [
      "Filtered RDD [{'Name': 'Grace', 'Age': 34}, {'Name': 'Alice', 'Age': 33}, {'Name': 'Grace', 'Age': 33}, {'Name': 'Alice', 'Age': 33}, {'Name': 'Emma', 'Age': 39}, {'Name': 'Grace', 'Age': 29}, {'Name': 'Grace', 'Age': 38}, {'Name': 'Emma', 'Age': 25}, {'Name': 'Charlie', 'Age': 27}, {'Name': 'Charlie', 'Age': 20}, {'Name': 'Alice', 'Age': 33}, {'Name': 'Alice', 'Age': 24}, {'Name': 'Alice', 'Age': 36}, {'Name': 'Alice', 'Age': 27}, {'Name': 'Grace', 'Age': 21}, {'Name': 'Charlie', 'Age': 31}, {'Name': 'Grace', 'Age': 29}, {'Name': 'Emma', 'Age': 21}, {'Name': 'Emma', 'Age': 21}, {'Name': 'Grace', 'Age': 22}, {'Name': 'Charlie', 'Age': 22}, {'Name': 'Grace', 'Age': 25}, {'Name': 'Charlie', 'Age': 23}, {'Name': 'Alice', 'Age': 33}, {'Name': 'Charlie', 'Age': 34}, {'Name': 'Grace', 'Age': 28}, {'Name': 'Grace', 'Age': 27}, {'Name': 'Alice', 'Age': 31}, {'Name': 'Charlie', 'Age': 37}, {'Name': 'Emma', 'Age': 29}, {'Name': 'Grace', 'Age': 25}, {'Name': 'Emma', 'Age': 39}, {'Name': 'Alice', 'Age': 24}, {'Name': 'Grace', 'Age': 28}, {'Name': 'Alice', 'Age': 32}, {'Name': 'Alice', 'Age': 27}, {'Name': 'Charlie', 'Age': 22}, {'Name': 'Alice', 'Age': 32}, {'Name': 'Emma', 'Age': 32}]\n"
     ]
    }
   ],
   "source": [
    "## TODO: filtering records in RDD by using filter()\n",
    "import re\n",
    "\n",
    "filtered_rdd = rdd.filter(lambda x: re.search(r'E', x['Name'], re.IGNORECASE))\n",
    "print(\"Filtered RDD\", filtered_rdd.take(100))"
   ]
  },
  {
   "cell_type": "code",
   "execution_count": 84,
   "id": "5f532872-45a7-4290-a031-cd0b2f3267e2",
   "metadata": {},
   "outputs": [
    {
     "name": "stdout",
     "output_type": "stream",
     "text": [
      "Reduced RDD [('Grace', 339), ('Isaac', 290), ('Emma', 206), ('Hannah', 215), ('Bob', 296), ('Julia', 358), ('Frank', 210), ('Alice', 365), ('David', 498), ('Charlie', 216)]\n"
     ]
    }
   ],
   "source": [
    "## TODO: reduceByKey transformation by using reduceByKey()\n",
    "reduced_rdd = rdd.map(lambda x: (x['Name'], x['Age'])).reduceByKey(lambda x, y: x + y)\n",
    "print(\"Reduced RDD\", reduced_rdd.take(100))"
   ]
  },
  {
   "cell_type": "code",
   "execution_count": 95,
   "id": "3f814b4a-74ab-4559-88bb-ff4e1e37961d",
   "metadata": {},
   "outputs": [
    {
     "name": "stdout",
     "output_type": "stream",
     "text": [
      "Grace: [34, 33, 29, 38, 21, 29, 22, 25, 28, 27, 25, 28]\n",
      "Isaac: [29, 34, 24, 24, 28, 27, 39, 35, 20, 30]\n",
      "Emma: [39, 25, 21, 21, 29, 39, 32]\n",
      "Hannah: [26, 37, 27, 40, 20, 27, 38]\n",
      "Bob: [31, 38, 26, 38, 39, 33, 21, 38, 32]\n",
      "Julia: [36, 36, 20, 21, 29, 27, 33, 22, 33, 25, 39, 37]\n",
      "Frank: [35, 39, 25, 20, 38, 24, 29]\n",
      "Alice: [33, 33, 33, 24, 36, 27, 33, 31, 24, 32, 27, 32]\n",
      "David: [28, 31, 25, 25, 24, 38, 38, 38, 30, 28, 28, 20, 37, 38, 37, 33]\n",
      "Charlie: [27, 20, 31, 22, 23, 34, 37, 22]\n"
     ]
    }
   ],
   "source": [
    "## TODO: Grouping transformation by using groupByKey() --> Not Recommended\n",
    "grouped_rdd = rdd.map(lambda x: (x['Name'], x['Age'])).groupByKey()\n",
    "for e in grouped_rdd.collect():\n",
    "    print(f\"{e[0]}: {list(e[1])}\")"
   ]
  },
  {
   "cell_type": "code",
   "execution_count": 94,
   "id": "a6ae345e-f5dc-4ea8-a7fa-95986e9a25a9",
   "metadata": {},
   "outputs": [
    {
     "name": "stdout",
     "output_type": "stream",
     "text": [
      "0: [('Grace', 34), ('Julia', 36), ('David', 28), ('Isaac', 34), ('Isaac', 24), ('Grace', 38), ('Charlie', 20), ('Julia', 36), ('Alice', 24), ('Alice', 36), ('Isaac', 24), ('Bob', 38), ('Isaac', 28), ('Hannah', 26), ('Julia', 20), ('David', 24), ('Grace', 22), ('Bob', 26), ('Charlie', 22), ('Bob', 38), ('David', 38), ('Frank', 20), ('David', 38), ('David', 38), ('Julia', 22), ('Frank', 38), ('Charlie', 34), ('Frank', 24), ('David', 30), ('David', 28), ('Grace', 28), ('Isaac', 20), ('Hannah', 40), ('Bob', 38), ('Alice', 24), ('Grace', 28), ('David', 28), ('David', 20), ('Hannah', 20), ('David', 38), ('Alice', 32), ('Charlie', 22), ('Hannah', 38), ('Alice', 32), ('Isaac', 30), ('Emma', 32), ('Bob', 32)]\n",
      "1: [('Bob', 31), ('Frank', 35), ('Alice', 33), ('Grace', 33), ('Isaac', 29), ('Alice', 33), ('Emma', 39), ('Grace', 29), ('Emma', 25), ('Charlie', 27), ('David', 31), ('Frank', 39), ('Alice', 33), ('Alice', 27), ('Frank', 25), ('Grace', 21), ('Charlie', 31), ('Grace', 29), ('Julia', 21), ('Isaac', 27), ('Isaac', 39), ('David', 25), ('David', 25), ('Emma', 21), ('Emma', 21), ('Bob', 39), ('Julia', 29), ('Grace', 25), ('Julia', 27), ('Charlie', 23), ('Julia', 33), ('Alice', 33), ('Isaac', 35), ('Hannah', 37), ('Bob', 33), ('Hannah', 27), ('Grace', 27), ('Alice', 31), ('Bob', 21), ('Charlie', 37), ('Emma', 29), ('Grace', 25), ('Emma', 39), ('David', 37), ('Julia', 33), ('Frank', 29), ('Julia', 25), ('Julia', 39), ('Alice', 27), ('Julia', 37), ('Hannah', 27), ('David', 37), ('David', 33)]\n"
     ]
    }
   ],
   "source": [
    "## TODO: Grouping following functioning key by using groupBy() --> Recommended\n",
    "grouped_rdd = rdd.map(lambda x: (x['Name'], x['Age'])).groupBy(lambda x: x[1] % 2)\n",
    "for e in grouped_rdd.collect():\n",
    "    print(f\"{e[0]}: {list(e[1])}\")"
   ]
  },
  {
   "cell_type": "code",
   "execution_count": 116,
   "id": "45a782b4-8672-4d06-8999-5c642cc384f7",
   "metadata": {},
   "outputs": [
    {
     "name": "stdout",
     "output_type": "stream",
     "text": [
      "Grace: 28.25\n",
      "Isaac: 29.0\n",
      "Emma: 29.428571428571427\n",
      "Hannah: 30.714285714285715\n",
      "Bob: 32.888888888888886\n",
      "Julia: 29.833333333333332\n",
      "Frank: 30.0\n",
      "Alice: 30.416666666666668\n",
      "David: 31.125\n",
      "Charlie: 27.0\n"
     ]
    }
   ],
   "source": [
    "## Combining values following key by using combineByKey() --> Recommended\n",
    "## TODO: find average value of age for each 'Name'\n",
    "def create_combiner(value):\n",
    "    return (value, 1)\n",
    "\n",
    "def merge_value(combiner, value):\n",
    "    combined_age, count = combiner\n",
    "    return (combined_age+value, count+1)\n",
    "\n",
    "def merge_combiner(combiner1, combiner2):\n",
    "    sum_age1, sum_count1 = combiner1\n",
    "    sum_age2, sum_count2 = combiner2\n",
    "    return (sum_age1+sum_age2, sum_count1+sum_count2)\n",
    "\n",
    "# Calculate the sum of every 'Age' associating 'Name'\n",
    "combined_rdd = rdd.map(lambda x: (x['Name'], x['Age'])).combineByKey(create_combiner, merge_value, merge_combiner)\n",
    "\n",
    "# Calculate the average age of each 'Name'\n",
    "average_age = combined_rdd.mapValues(lambda x: x[0]/x[1])\n",
    "for e in average_age.collect():\n",
    "    print(f\"{e[0]}: {e[1]}\")"
   ]
  },
  {
   "cell_type": "code",
   "execution_count": 111,
   "id": "f4bb4f5c-d239-4fcc-b408-1959642939b0",
   "metadata": {},
   "outputs": [
    {
     "name": "stdout",
     "output_type": "stream",
     "text": [
      "Grace: 28.25\n",
      "Isaac: 29.0\n",
      "Emma: 29.428571428571427\n",
      "Hannah: 30.714285714285715\n",
      "Bob: 32.888888888888886\n",
      "Julia: 29.833333333333332\n",
      "Frank: 30.0\n",
      "Alice: 30.416666666666668\n",
      "David: 31.125\n",
      "Charlie: 27.0\n"
     ]
    }
   ],
   "source": [
    "## Aggregating values following key by using aggregateByKey() --> Recommended\n",
    "## TODO: find average value of age for each 'Name'\n",
    "seqFunc = (lambda x, y: (x[0]+y, x[1]+1))\n",
    "combFunc = (lambda c1, c2: (c1[0]+c2[0])/(c1[1]+c2[1]))\n",
    "aggregated_rdd = rdd.map(lambda x: (x['Name'], x['Age'])).aggregateByKey((0,0), seqFunc, combFunc)\n",
    "\n",
    "for e in aggregated_rdd.collect():\n",
    "    print(f\"{e[0]}: {e[1]}\")"
   ]
  },
  {
   "cell_type": "code",
   "execution_count": 117,
   "id": "56be6047-f7a8-484e-8c9f-3e6744e82a93",
   "metadata": {},
   "outputs": [],
   "source": [
    "spark.stop()"
   ]
  }
 ],
 "metadata": {
  "kernelspec": {
   "display_name": "Python 3 (ipykernel)",
   "language": "python",
   "name": "python3"
  },
  "language_info": {
   "codemirror_mode": {
    "name": "ipython",
    "version": 3
   },
   "file_extension": ".py",
   "mimetype": "text/x-python",
   "name": "python",
   "nbconvert_exporter": "python",
   "pygments_lexer": "ipython3",
   "version": "3.9.13"
  }
 },
 "nbformat": 4,
 "nbformat_minor": 5
}
